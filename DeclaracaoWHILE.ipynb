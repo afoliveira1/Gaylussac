{
 "cells": [
  {
   "cell_type": "markdown",
   "metadata": {},
   "source": [
    "## A declaração \"while\"\n",
    "Frequentemente, computadores são utilizados para automatizar tarefas repetitivas. Repetir tarefas, idênticas ou similares, sem cometer erros, é algo que computadores fazem bem melhor que pessoas. Devido à iteração ser tão comum, Python disponibiliza diversos recursos para torná-la mais fácil.\n",
    "\n",
    "Uma das formas de iteração em Python é a declaração while. Abaixo, temos um programa simples que faz uma contagem regressiva, partindo de cinco, e depois diz “Lançar!”.\n",
    "\n",
    "## Execute o código abaixo clicando na caixa e depois apertando o botão \"Run\".\n"
   ]
  },
  {
   "cell_type": "code",
   "execution_count": null,
   "metadata": {},
   "outputs": [],
   "source": [
    "n = 5\n",
    "while n > 0:\n",
    "    print(n)\n",
    "    n = n - 1\n",
    "print('Lançar!')"
   ]
  },
  {
   "cell_type": "markdown",
   "metadata": {},
   "source": [
    "Vamos agora entender cada linha de comando deste código:\n",
    "\n",
    "**Linha 1 -->** Definição da variável **n** e atribuição do valor **5** inteiro a esta variável.\n",
    "\n",
    "**Linha 2 -->** Uso da declaração **while**. Podemos interpretar assim: \"Enquanto n > 0 execute os comandos das linhas 3 e 4 em sequência\".\n",
    "\n",
    "**Linha 3 -->** Escreve na tela o valor atual da variável **n**\n",
    "\n",
    "**Linha 4 -->** O valor interno da variável **n** é atualizado para um valor menor em uma unidade. É NESTA LINHA DE COMANDO QUE O VALOR DO CONTADOR n É MODIFICADO A CADA ITERAÇÃO. 5, 4, 3, 2, 1. Quando n chega ao valor 0 (zero) a condição n > 0 deixa de ser verdadeira e então a execução do código passa para a linha 5.\n",
    "\n",
    "**Linha 5 -->** Através do comando **print()** é mostrada a mensagem **Lançar!** na tela.\n",
    "\n",
    "## Agora acrescente um valor inicial para a variável n no código abaixo e veja o quê acontece!\n",
    "\n",
    "## Não esqueça de testar o código clicando no botão \"Run\""
   ]
  },
  {
   "cell_type": "code",
   "execution_count": null,
   "metadata": {},
   "outputs": [],
   "source": [
    "n =     # acrescente aqui o valor inicial para n\n",
    "while n > 0:\n",
    "    print(n)\n",
    "    n = n - 1\n",
    "print('Lançar!')"
   ]
  },
  {
   "cell_type": "markdown",
   "metadata": {},
   "source": [
    "## Agora escreva um código completo que seja capaz de fazer uma contagem semelhante à anterior, mas iniciando em 0 (zero) e terminando em 20 (vinte).\n",
    "\n",
    "## Não esqueça de testar o código clicando no botão \"Run\""
   ]
  },
  {
   "cell_type": "code",
   "execution_count": null,
   "metadata": {},
   "outputs": [],
   "source": []
  }
 ],
 "metadata": {
  "kernelspec": {
   "display_name": "Python 3",
   "language": "python",
   "name": "python3"
  },
  "language_info": {
   "codemirror_mode": {
    "name": "ipython",
    "version": 3
   },
   "file_extension": ".py",
   "mimetype": "text/x-python",
   "name": "python",
   "nbconvert_exporter": "python",
   "pygments_lexer": "ipython3",
   "version": "3.7.6"
  }
 },
 "nbformat": 4,
 "nbformat_minor": 4
}
