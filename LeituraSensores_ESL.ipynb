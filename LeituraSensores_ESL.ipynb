{
  "nbformat": 4,
  "nbformat_minor": 0,
  "metadata": {
    "colab": {
      "name": "LeituraSensores-ESL.ipynb",
      "provenance": [],
      "collapsed_sections": [],
      "mount_file_id": "1a-CVTghyUSwjOTVVclR69hzLI8IcQOcY",
      "authorship_tag": "ABX9TyP7wIkp9U33wSgbbu/u+ymG",
      "include_colab_link": true
    },
    "kernelspec": {
      "name": "python3",
      "display_name": "Python 3"
    },
    "language_info": {
      "name": "python"
    }
  },
  "cells": [
    {
      "cell_type": "markdown",
      "metadata": {
        "id": "view-in-github",
        "colab_type": "text"
      },
      "source": [
        "<a href=\"https://colab.research.google.com/github/afoliveira1/Gaylussac/blob/Aula/LeituraSensores_ESL.ipynb\" target=\"_parent\"><img src=\"https://colab.research.google.com/assets/colab-badge.svg\" alt=\"Open In Colab\"/></a>"
      ]
    },
    {
      "cell_type": "code",
      "execution_count": null,
      "metadata": {
        "colab": {
          "base_uri": "https://localhost:8080/",
          "height": 582
        },
        "id": "C2t16waJ7IpF",
        "outputId": "21da7eb0-55d9-4238-f892-4f5ac92648ef"
      },
      "outputs": [
        {
          "output_type": "stream",
          "name": "stdout",
          "text": [
            "A temperatura média no intervalo é  25.633\n",
            "A temperatura máxima no intervalo é  26.0\n"
          ]
        },
        {
          "output_type": "display_data",
          "data": {
            "text/plain": [
              "<Figure size 432x288 with 1 Axes>"
            ],
            "image/png": "[encoded data removed]"
          },
          "metadata": {
            "needs_background": "light"
          }
        },
        {
          "output_type": "stream",
          "name": "stdout",
          "text": [
            "A humidade média no intervalo é  65.98\n",
            "A temperatura máxima no intervalo é  74.0\n"
          ]
        },
        {
          "output_type": "display_data",
          "data": {
            "text/plain": [
              "<Figure size 432x288 with 1 Axes>"
            ],
            "image/png": "[encoded data removed]"
          },
          "metadata": {
            "needs_background": "light"
          }
        }
      ],
      "source": [
        "import math\n",
        "import statistics as st\n",
        "import matplotlib.pyplot as plt\n",
        "\n",
        "data = open(\"/content/drive/MyDrive/Colab Notebooks/feed (4).csv\",\"r\")\n",
        "temperatura = []\n",
        "humidade = []\n",
        "\n",
        "for i in data:\n",
        "   linha = i.split(\",\")\n",
        "   temperatura.append(linha[2])\n",
        "   humidade.append(linha[3])\n",
        "del temperatura[0]\n",
        "del humidade[0]\n",
        "for i in range(100):\n",
        "  temperatura[i]=float(temperatura[i])\n",
        "  humidade[i] = float(humidade[i])\n",
        "print(\"A temperatura média no intervalo é \",st.mean(temperatura))\n",
        "print(\"A temperatura máxima no intervalo é \",max(temperatura))\n",
        "plt.plot(temperatura,'bo')\n",
        "plt.show()\n",
        "print(\"A umidade média no intervalo é \",st.mean(humidade))\n",
        "print(\"A umidade máxima no intervalo é \",max(humidade))\n",
        "plt.plot(humidade,'ro')\n",
        "plt.show()"
      ]
    },
    {
      "cell_type": "code",
      "source": [
        ""
      ],
      "metadata": {
        "id": "LwWDI7OL7ajd"
      },
      "execution_count": null,
      "outputs": []
    }
  ]
}