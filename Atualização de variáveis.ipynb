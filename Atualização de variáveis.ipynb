{
 "cells": [
  {
   "cell_type": "markdown",
   "metadata": {},
   "source": [
    "# Iterações\n",
    "\n",
    "## Atualizando variáveis\n",
    "\n",
    "Quando escrevemos a expressão x = 10 estamos atribuindo à variável x o valor 10 inteiro. Estamos relembrando a definição de variáveis e o conceito de atribuição.\n",
    "\n",
    "Um modelo comum de declaração de atribuição é uma que atualiza o valor de uma variável, na qual o seu novo valor depende do seu anterior.\n",
    "\n",
    "x = x + 1\n",
    "\n",
    "Isso significa \"pegue o valor atual de x, adicione 1 e então atualize x com esse novo valor.\"\n",
    "\n",
    "Antes de se poder atualizar uma variável, é preciso inicializá-la, normalmente com uma simples atribuição:\n",
    "\n",
    "### Teste o código abaixo selecionando a caixa e apertando o botão \"Run\" lá em cima. O código presente na caixa será executado como num compilador PYTHON. Você pode alterar o código e testar o resultado dessas alterações."
   ]
  },
  {
   "cell_type": "code",
   "execution_count": 2,
   "metadata": {},
   "outputs": [
    {
     "name": "stdout",
     "output_type": "stream",
     "text": [
      "3\n"
     ]
    }
   ],
   "source": [
    "x = 0\n",
    "x = x + 1\n",
    "x = x + 1\n",
    "x = x + 1\n",
    "print(x)"
   ]
  },
  {
   "cell_type": "markdown",
   "metadata": {},
   "source": [
    "Ao executar o código acima, qual foi o valor mostrado como resultado? Você consegue explicar porquê esse valor foi mostrado na tela?\n",
    "\n",
    "Essa é uma aplicação simples desse conceito de atualização de variável. Neste caso particular, dizemos que houve um \"incremento\". Isso acontece quando o valor de uma variável é acrescido de uma unidade.\n",
    "\n",
    "Aplicamos três incrementos na sequência de código anterior.\n",
    "\n",
    "### Agora peço que você tente aplicar três \"decrementos\" a uma variável \"y\" que deve ser inicializada com o valor 10 inteiro. Mostre na tela o valor final de y usando o comando print(y)\n",
    "Observação: Um decremento é o processo inverso ao do incremento. Ou seja: a variável é atualizada para um valor que é menor em uma (1) unidade.\n",
    "### Use a caixa abaixo para escrever esse código que é semelhante ao anterior. Teste apertando o botão \"Run\""
   ]
  },
  {
   "cell_type": "code",
   "execution_count": null,
   "metadata": {},
   "outputs": [],
   "source": []
  },
  {
   "cell_type": "markdown",
   "metadata": {},
   "source": [
    "Qual foi o valor mostrado na tela após o desenvolvimento do seu código? Foi o número 7 inteiro? Muito bem! Esse deveria ser o resultado, pois iniciamos a variável y com o valor 10 e após três decrementos consecutivos deveríamos ter:\n",
    "\n",
    "&nbsp;\n",
    "y = 10\n",
    "\n",
    "&nbsp;\n",
    "y = 10 - 1 = 9\n",
    "\n",
    "&nbsp;\n",
    "y = 9 - 1 = 8\n",
    "\n",
    "&nbsp;\n",
    "y = 8 - 1 = 7\n",
    "\n",
    "&nbsp;\n",
    "\n",
    "Ou seja, após três atualizações sucessivas da expressão y = y - 1, o valor da variável y que foi iniciado em 10 foi atualizado para 7."
   ]
  },
  {
   "cell_type": "markdown",
   "metadata": {},
   "source": [
    "### Agora que você já sabe atualizar o valor de uma variável, tente escrever um código que funcione como um contador regressivo que inicia no valor 10. Ele deverá escrever na tela assim:\n",
    "10 \n",
    "\n",
    "&nbsp;\n",
    "9\n",
    "\n",
    "&nbsp;\n",
    "8\n",
    "\n",
    "&nbsp;\n",
    "7\n",
    "\n",
    "&nbsp;\n",
    "6\n",
    "\n",
    "&nbsp;\n",
    "5\n",
    "\n",
    "&nbsp;\n",
    "4\n",
    "\n",
    "&nbsp;\n",
    "3\n",
    "\n",
    "&nbsp;\n",
    "2\n",
    "\n",
    "&nbsp;\n",
    "1\n",
    "\n",
    "&nbsp;\n",
    "Pronto!\n",
    "\n",
    "### Escreva o seu código na caixa abaixo e teste apertando o botão \"Run\""
   ]
  },
  {
   "cell_type": "code",
   "execution_count": null,
   "metadata": {},
   "outputs": [],
   "source": []
  }
 ],
 "metadata": {
  "kernelspec": {
   "display_name": "Python 3",
   "language": "python",
   "name": "python3"
  },
  "language_info": {
   "codemirror_mode": {
    "name": "ipython",
    "version": 3
   },
   "file_extension": ".py",
   "mimetype": "text/x-python",
   "name": "python",
   "nbconvert_exporter": "python",
   "pygments_lexer": "ipython3",
   "version": "3.7.6"
  }
 },
 "nbformat": 4,
 "nbformat_minor": 4
}
