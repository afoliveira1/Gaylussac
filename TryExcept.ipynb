{
 "cells": [
  {
   "cell_type": "markdown",
   "metadata": {},
   "source": [
    "# Comando Try and Except"
   ]
  },
  {
   "cell_type": "markdown",
   "metadata": {},
   "source": [
    "Na aula de hoje iremos aprender a construir algorítimos que saibam lidar com entradas de dados não esperados. Vejamos o exemplo a seguir:\n",
    "\n",
    "Queremos construir um algorítimo que calcule a conversão entre valores de temperatura na unidade Fahrenheit para Celsius. Para isso, utilizaremos o comando input() para receber o valor numérico que deverá ser inserido pelo usuário do software."
   ]
  },
  {
   "cell_type": "markdown",
   "metadata": {},
   "source": [
    "### O que acontecerá se o usuário entrar com um nome ao invés de um número?\n",
    "\n",
    "### Verifique, utilizando o código abaixo!\n",
    "\n",
    "Selecione a caixa que contém o código abaixo e depois aperte o botão Run lá em cima."
   ]
  },
  {
   "cell_type": "code",
   "execution_count": null,
   "metadata": {},
   "outputs": [],
   "source": [
    "inp = input('Entre com o valor de temperatura em Fahrenheit: \\n')\n",
    "fahr = float(inp)\n",
    "celsius = (fahr - 32.0) * 5.0 / 9.0\n",
    "print( celsius,'°C' )"
   ]
  },
  {
   "cell_type": "markdown",
   "metadata": {},
   "source": [
    "## Muito bem! \n",
    "Você pôde verificar que se executamos esse código e inserimos uma entrada inválida, ele simplesmente falha, mostrando uma mensagem de erro não amigável."
   ]
  },
  {
   "cell_type": "markdown",
   "metadata": {},
   "source": [
    "## Tratando exceções usando try e expcept\n",
    "Existe uma estrutura de execução condicional interna ao Python para manipular esses tipos de errros esperados e inesperados chamada \"try / except\". A ideia de ‘try’ e ‘except’ é de você saber que alguma sequência de instruções pode ter um problema e você quer adicionar alguns comandos para serem executados caso um erro ocorra. Esses comandos extra (o bloco ‘except’) são ignorados se não houver\n",
    "erro.\n",
    "Você pode pensar na ferramenta ‘try’ e ‘except’ no Python como sendo uma “apólice de seguro” sobre uma sequência de instruções.\n",
    "\n",
    "Podemos reescrever nosso conversor de temperatura da seguinte forma:\n",
    "\n",
    "### try:\n",
    "    código normal\n",
    "\n",
    "### except:\n",
    "    código a ser executado se houver um problema for encontrado na execução do código\n",
    "\n",
    "Agora escreva abaixo o algorítimo que seja capaz de avisar quando uma entrada errada."
   ]
  },
  {
   "cell_type": "code",
   "execution_count": null,
   "metadata": {},
   "outputs": [],
   "source": []
  }
 ],
 "metadata": {
  "kernelspec": {
   "display_name": "Python 3",
   "language": "python",
   "name": "python3"
  },
  "language_info": {
   "codemirror_mode": {
    "name": "ipython",
    "version": 3
   },
   "file_extension": ".py",
   "mimetype": "text/x-python",
   "name": "python",
   "nbconvert_exporter": "python",
   "pygments_lexer": "ipython3",
   "version": "3.7.6"
  }
 },
 "nbformat": 4,
 "nbformat_minor": 4
}
