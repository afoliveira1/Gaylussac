{
 "cells": [
  {
   "cell_type": "markdown",
   "metadata": {},
   "source": [
    "# Comandos TRY and EXCEPT"
   ]
  },
  {
   "cell_type": "markdown",
   "metadata": {},
   "source": [
    "Na aula de hoje iremos aprender a construir algorítimos que saibam lidar com entradas de dados não esperados.\n",
    "Vejamos o exemplo a seguir:\n",
    "\n",
    "Queremos construir um algorítimo que calcule a média entre 5 números. E para isso, utilizaremos o comando input() para receber os números que deverão ser inseridos pelo usuário do software.\n",
    "\n",
    "O que acontecerá se o usuário entrar com um nome ao invés de um número?\n",
    "\n",
    "Verifique utilizando o código abaixo!\n",
    "\n",
    "Selecione a caixa que contém o código abaixo e depois aperte o botão Run lá em cima."
   ]
  },
  {
   "cell_type": "code",
   "execution_count": null,
   "metadata": {},
   "outputs": [],
   "source": []
  }
 ],
 "metadata": {
  "kernelspec": {
   "display_name": "Python 3",
   "language": "python",
   "name": "python3"
  },
  "language_info": {
   "codemirror_mode": {
    "name": "ipython",
    "version": 3
   },
   "file_extension": ".py",
   "mimetype": "text/x-python",
   "name": "python",
   "nbconvert_exporter": "python",
   "pygments_lexer": "ipython3",
   "version": "3.7.6"
  }
 },
 "nbformat": 4,
 "nbformat_minor": 4
}
